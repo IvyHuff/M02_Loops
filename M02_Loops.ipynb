{
 "cells": [
  {
   "cell_type": "code",
   "execution_count": null,
   "id": "d33e2495",
   "metadata": {},
   "outputs": [],
   "source": [
    "import random\n",
    "\n",
    "def make_random_number():\n",
    "    return random.randint(1, 10)\n",
    "\n",
    "secret = make_random_number()\n",
    "\n",
    "guess = int(input(\"What is your guess? \"))\n",
    "\n",
    "if secret > guess: \n",
    "    print(\"Your guess is too low\") \n",
    "\n",
    "elif secret < guess:\n",
    "    print(\"You guess is too high\")\n",
    "\n",
    "else: \n",
    "    print(\"Your guess is correct!\")\n",
    "    "
   ]
  },
  {
   "cell_type": "code",
   "execution_count": null,
   "id": "61e6564b",
   "metadata": {},
   "outputs": [],
   "source": [
    "small = True\n",
    "green = False\n",
    "\n",
    "if small and green:\n",
    "    print(\"It's a pea.\")\n",
    "elif small and not green:\n",
    "    print(\"It's a cherry.\")\n",
    "elif not small and green:\n",
    "    print(\"It's a watermelon.\")\n",
    "elif not small and not green:\n",
    "    print(\"It's a pumpkin.\")\n"
   ]
  },
  {
   "cell_type": "code",
   "execution_count": null,
   "id": "71480257",
   "metadata": {},
   "outputs": [],
   "source": [
    "numbers = [3, 2, 1, 0]\n",
    "\n",
    "for num in numbers:\n",
    "    print(num)\n"
   ]
  },
  {
   "cell_type": "code",
   "execution_count": null,
   "id": "5d097391",
   "metadata": {},
   "outputs": [],
   "source": [
    "guess_me = 7\n",
    "number = 1\n",
    "\n",
    "while number <= guess_me:\n",
    "    if number < guess_me: \n",
    "        print(\"too low\")\n",
    "    elif number -- guess_me:\n",
    "        print(\"found it!\")\n",
    "    else: \n",
    "        print(\"oops\")\n",
    "        break\n",
    "\n",
    "    number += 1"
   ]
  },
  {
   "cell_type": "code",
   "execution_count": null,
   "id": "ada5ece0",
   "metadata": {},
   "outputs": [],
   "source": [
    "guess_me = 5 \n",
    "\n",
    "for number in range(10):\n",
    "    if number < guess_me:\n",
    "        print(\"too low\")\n",
    "    elif number == guess_me:\n",
    "        print(\"found it!\")\n",
    "        break\n",
    "    else:\n",
    "        print(\"oops\")\n",
    "        break"
   ]
  }
 ],
 "metadata": {
  "kernelspec": {
   "display_name": "Python 3 (ipykernel)",
   "language": "python",
   "name": "python3"
  },
  "language_info": {
   "codemirror_mode": {
    "name": "ipython",
    "version": 3
   },
   "file_extension": ".py",
   "mimetype": "text/x-python",
   "name": "python",
   "nbconvert_exporter": "python",
   "pygments_lexer": "ipython3",
   "version": "3.11.5"
  }
 },
 "nbformat": 4,
 "nbformat_minor": 5
}
